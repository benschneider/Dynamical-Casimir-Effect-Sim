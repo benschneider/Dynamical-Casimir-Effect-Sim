{
 "cells": [
  {
   "cell_type": "code",
   "execution_count": 2,
   "metadata": {},
   "outputs": [],
   "source": [
    "import numpy as np\n",
    "from scipy import constants as cons\n",
    "from numpy import pi, cos, sin, sqrt\n",
    "# import PyGnuplot as gp\n",
    "import matplotlib.pyplot as plt"
   ]
  },
  {
   "cell_type": "code",
   "execution_count": 3,
   "metadata": {},
   "outputs": [],
   "source": [
    "plt.ion()"
   ]
  },
  {
   "cell_type": "code",
   "execution_count": 4,
   "metadata": {},
   "outputs": [],
   "source": [
    "def get_LogNegNum(CovM_in):\n",
    "    CovM = CovM_in * 2\n",
    "    V = np.linalg.det(CovM)\n",
    "    A = np.linalg.det(CovM[:2, :2])\n",
    "    B = np.linalg.det(CovM[2:, 2:])\n",
    "    C = np.linalg.det(CovM[:2, 2:])\n",
    "    sigma = A + B - 2.0 * C\n",
    "    vn = sqrt(sigma / 2.0 - sqrt(sigma * sigma - 4.0 * V) / 2.0)\n",
    "    if C == 0:\n",
    "        return 0.0\n",
    "    else:\n",
    "        return -np.log2(2.0 * vn) if (np.log2(2.0 * vn)) < 0.0 else 0.0"
   ]
  },
  {
   "cell_type": "code",
   "execution_count": 5,
   "metadata": {},
   "outputs": [],
   "source": [
    "def N_test(n12, nth=0.0):\n",
    "    M_test = np.array([[(0.25+(n12+nth)/2.0), 0, sqrt(n12)/2.0, 0],\n",
    "                       [0, (0.25 + (n12+nth)/2.0), 0, -sqrt(n12)/2.0],\n",
    "                       [sqrt(n12)/2.0, 0, (0.25+(n12+nth)/2.0), 0],\n",
    "                       [0, -sqrt(n12)/2.0, 0, (0.25+(n12+nth) / 2.0)]])\n",
    "    N = get_LogNegNum(M_test)\n",
    "    return N"
   ]
  },
  {
   "cell_type": "code",
   "execution_count": 6,
   "metadata": {},
   "outputs": [],
   "source": [
    "def get_LogN_M(n1, n2, q):\n",
    "    '''Returns a Covariance Matrix and its corresponding log negativity,\n",
    "    '''\n",
    "    M_test = np.array([[n1 / 2.0, 0, q / 2.0, 0],\n",
    "                       [0, n1 / 2.0, 0, -q / 2.0],\n",
    "                       [q / 2.0, 0, n2 / 2.0, 0],\n",
    "                       [0, -q /2.0, 0, n2 / 2.0]])\n",
    "    N = get_LogNegNum(M_test)\n",
    "    return M_test, N"
   ]
  },
  {
   "cell_type": "code",
   "execution_count": 7,
   "metadata": {},
   "outputs": [],
   "source": [
    "def get_Ef(N):\n",
    "    dn = 2**N\n",
    "    cp = (dn**(-0.5) + dn**(0.5))**2 / 4\n",
    "    cn = (dn**(-0.5) - dn**(0.5))**2 / 4\n",
    "    Ef = cp * np.log2(cp) - cn * np.log2(cn)\n",
    "    return Ef"
   ]
  },
  {
   "cell_type": "code",
   "execution_count": 8,
   "metadata": {},
   "outputs": [],
   "source": [
    "def get_q(sqdb):\n",
    "    '''convert squeezing db to photon numbers with reference to vacuum'''\n",
    "    sqf = 10**(sqdb/10)\n",
    "    Q = (sqf*0.5-0.5)\n",
    "    return Q"
   ]
  },
  {
   "cell_type": "code",
   "execution_count": 9,
   "metadata": {},
   "outputs": [],
   "source": [
    "def get_Ebit(sqdb, bw=1, th=0):\n",
    "    '''squeezing in db sqdb, bandwidth bw, total thermal photons (equal contr) th'''\n",
    "    sq = get_q(sqdb)\n",
    "    M, N = get_LogN_M(0.5+th/2, 0.5+th/2, sq)\n",
    "    ef = get_Ef(N)\n",
    "    print('LogNeg: '+str(N))\n",
    "    print('Ef: '+str(ef))\n",
    "    print('Ebits: '+str(bw*ef/1e6)+ ' Mebit/s')"
   ]
  },
  {
   "cell_type": "markdown",
   "metadata": {},
   "source": [
    "### Plot thermal photons v.s. freq.  \n",
    "$$n = \\dfrac{1}{\\exp^{h f/ k_b T} -1}$$"
   ]
  },
  {
   "cell_type": "code",
   "execution_count": 9,
   "metadata": {
    "scrolled": true
   },
   "outputs": [
    {
     "data": {
      "text/plain": [
       "[<matplotlib.lines.Line2D at 0x1065b66d8>]"
      ]
     },
     "execution_count": 9,
     "metadata": {},
     "output_type": "execute_result"
    },
    {
     "data": {
      "image/png": "[encoded data removed]",
      "text/plain": [
       "<matplotlib.figure.Figure at 0x1064d2828>"
      ]
     },
     "metadata": {},
     "output_type": "display_data"
    }
   ],
   "source": [
    "T = 0.050\n",
    "f = np.linspace(3e9,8e9, 100)\n",
    "n = 1/(np.exp((cons.Planck*f)/(cons.Boltzmann*T))-1)\n",
    "plt.plot(f/1e9,n)"
   ]
  },
  {
   "cell_type": "markdown",
   "metadata": {},
   "source": [
    "### Plot  Log Negativity v.s. squeezing for different number of thermal photons"
   ]
  },
  {
   "cell_type": "code",
   "execution_count": 10,
   "metadata": {},
   "outputs": [],
   "source": [
    "def plot_LogN_vs_SQ(th=0, sqmax=-20, pts=201):\n",
    "    sq_test = np.linspace(sqmax, 0, pts)\n",
    "    sq = get_q(sq_test)\n",
    "    Ns = np.zeros(pts)\n",
    "    for i, sqval in enumerate(sq):\n",
    "        M, Ns[i] = get_LogN_M(0.5+th/2, 0.5+th/2, sqval)\n",
    "    plt.plot(sq_test, Ns)\n"
   ]
  },
  {
   "cell_type": "code",
   "execution_count": 11,
   "metadata": {},
   "outputs": [
    {
     "data": {
      "image/png": "[encoded data removed]",
      "text/plain": [
       "<matplotlib.figure.Figure at 0x1065c6da0>"
      ]
     },
     "metadata": {},
     "output_type": "display_data"
    }
   ],
   "source": [
    "plot_LogN_vs_SQ(th=0.0)  # Without thermal photons"
   ]
  },
  {
   "cell_type": "code",
   "execution_count": 12,
   "metadata": {},
   "outputs": [
    {
     "data": {
      "image/png": "[encoded data removed]",
      "text/plain": [
       "<matplotlib.figure.Figure at 0x106735f28>"
      ]
     },
     "metadata": {},
     "output_type": "display_data"
    }
   ],
   "source": [
    "plot_LogN_vs_SQ(th=0.02)  # With thermal photons (0.02 @ 50mK & 4GHz)"
   ]
  },
  {
   "cell_type": "markdown",
   "metadata": {},
   "source": []
  },
  {
   "cell_type": "markdown",
   "metadata": {},
   "source": [
    "## 1: Finite-time quantum correlations of propagating squeezed microwaves\n",
    "#### Kirill G. Fedorov et. al.  ; arXiv:1703.05138v2 https://arxiv.org/abs/1703.05138v2\n",
    "\n",
    "    Quoted Squeezing: -7.2 dB !\n",
    "    Quoted Negativity: 3.5\n",
    "    Maximum possible bandwidth: 5 MHz\n",
    "    \n",
    "    On Nature comms after asking:\n",
    "    \"bandwidth Δf (which corresponds to Nk ≃ 1.08 and S ≃ 5.3 dB), \n",
    "    we arrive at the entangled-bit rate of 4.3 Mebits/s\""
   ]
  },
  {
   "cell_type": "code",
   "execution_count": 18,
   "metadata": {},
   "outputs": [
    {
     "name": "stdout",
     "output_type": "stream",
     "text": [
      "LogNeg: 1.7606218902903008\n",
      "Ef: 1.2455756476675672\n",
      "Ebits: 4.359514766836485 Mebit/s\n"
     ]
    }
   ],
   "source": [
    "get_Ebit(-5.3, bw=3.5e6, th=0.0)  # Assuming PERFECT SYSTEM"
   ]
  },
  {
   "cell_type": "code",
   "execution_count": null,
   "metadata": {},
   "outputs": [],
   "source": []
  },
  {
   "cell_type": "markdown",
   "metadata": {},
   "source": []
  },
  {
   "cell_type": "markdown",
   "metadata": {},
   "source": [
    " "
   ]
  },
  {
   "cell_type": "markdown",
   "metadata": {},
   "source": [
    "## 2: Observation of Two-Mode Squeezing in the Microwave Frequency Domain\n",
    "#### C. Eichler, et. al.,  http://dx.doi.org/10.1103/PhysRevLett.107.113601\n",
    "    Quoted Squeezing: -2.25 (max) (excluding thermal photons)\n",
    "    Max. possible Bandwidth: 14 MHz"
   ]
  },
  {
   "cell_type": "code",
   "execution_count": 19,
   "metadata": {},
   "outputs": [
    {
     "name": "stdout",
     "output_type": "stream",
     "text": [
      "LogNeg: 0.7474338213496565\n",
      "Ef: 0.3675373924147415\n",
      "Ebits: 5.1455234938063805 Mebit/s\n"
     ]
    }
   ],
   "source": [
    "get_Ebit(-2.25, bw=14e6, th=0.0) # Assuming PERFECT SYSTEM"
   ]
  },
  {
   "cell_type": "code",
   "execution_count": null,
   "metadata": {},
   "outputs": [],
   "source": []
  },
  {
   "cell_type": "markdown",
   "metadata": {},
   "source": [
    "## 3: Generating Entangled Microwave Radiation Over Two Transmission Lines (PRL 2012)\n",
    "#### E. Flurin et. al.\n",
    "\n",
    "    Quoted Ebit at sample: 6 Mebit/s\n",
    "    Quoted Squeezing: -3.4 dB\n",
    "    Quoted Negativity: 1.15 \n",
    "    Quoted EF = 0.69\n",
    "    est. Bandwidth = (6e6/0.69) = 8.7 MHz"
   ]
  },
  {
   "cell_type": "code",
   "execution_count": 14,
   "metadata": {},
   "outputs": [
    {
     "name": "stdout",
     "output_type": "stream",
     "text": [
      "LogNeg: 1.1467295783551175\n",
      "Ef: 0.6896498003350491\n",
      "Ebits: 5.999953262914927 Mebit/s\n"
     ]
    }
   ],
   "source": [
    "get_Ebit(-3.452, bw=8.7e6, th=0.0) # Assuming PERFECT SYSTEM"
   ]
  },
  {
   "cell_type": "code",
   "execution_count": null,
   "metadata": {},
   "outputs": [],
   "source": []
  },
  {
   "cell_type": "markdown",
   "metadata": {},
   "source": [
    "## 4: Path Entanglement of Continuous-Variable Quantum Microwaves\n",
    "#### E. P. Menzel, et.al. ; http://dx.doi.org/10.1103/PhysRevLett.109.250502\n",
    "\n",
    "    Quoted Squeezing: -3.2 dB\n",
    "    Quoted Negativity: 0.55\n",
    "    assumed Bandwidth: 10 MHz \n",
    "    (JPA with +10dB gain likely 1-2MHz Bandwidth)"
   ]
  },
  {
   "cell_type": "code",
   "execution_count": 59,
   "metadata": {},
   "outputs": [
    {
     "name": "stdout",
     "output_type": "stream",
     "text": [
      "LogNeg: 1.0630169903639557\n",
      "Ef: 0.6185863502492333\n",
      "Ebits: 6.1858635024923325 Mebit/s\n"
     ]
    }
   ],
   "source": [
    "get_Ebit(-3.2, bw=10e6, th=0.0) # Assuming PERFECT SYSTEM"
   ]
  },
  {
   "cell_type": "code",
   "execution_count": 60,
   "metadata": {},
   "outputs": [
    {
     "name": "stdout",
     "output_type": "stream",
     "text": [
      "LogNeg: 1.0039581427948239\n",
      "Ef: 0.5694289974121798\n",
      "Ebits: 5.694289974121798 Mebit/s\n"
     ]
    }
   ],
   "source": [
    "get_Ebit(-3.2, bw=10e6, th=0.02) # Including thermal photons 40 mK (paper states 50 mK)"
   ]
  },
  {
   "cell_type": "code",
   "execution_count": null,
   "metadata": {},
   "outputs": [],
   "source": []
  },
  {
   "cell_type": "markdown",
   "metadata": {},
   "source": [
    "## 5:  Generating and verifying entangled itinerant microwave fields with efficient and independent measurements\n",
    "#### H. S. Ku, et al ;    http://dx.doi.org/10.1103/PhysRevA.91.042305\n",
    "    Quoted negativity: 0.0824\n",
    "    Quoted squeezing: -0.86 dB\n",
    "    Quoted thermal photons + losses: n1 = 0.13\n",
    "    Bandwidth: 8.5 MHz\n",
    "    (losses result in approx factor of ~2.4 lower squeezing values)"
   ]
  },
  {
   "cell_type": "code",
   "execution_count": 17,
   "metadata": {},
   "outputs": [
    {
     "name": "stdout",
     "output_type": "stream",
     "text": [
      "LogNeg: 0.0734668157112417\n",
      "Ef: 0.007803222523269688\n",
      "Ebits: 0.06632739144779236 Mebit/s\n"
     ]
    }
   ],
   "source": [
    "get_Ebit(-0.86, bw=8.5e6, th=0.13) # Including noise and losses"
   ]
  },
  {
   "cell_type": "code",
   "execution_count": 18,
   "metadata": {
    "scrolled": true
   },
   "outputs": [
    {
     "name": "stdout",
     "output_type": "stream",
     "text": [
      "LogNeg: 0.6856459587847517\n",
      "Ef: 0.32236925671148653\n",
      "Ebits: 2.740138682047635 Mebit/s\n"
     ]
    }
   ],
   "source": [
    "get_Ebit(-0.86*2.4, bw=8.5e6, th=0.0) # Estimated without noise and losses"
   ]
  },
  {
   "cell_type": "markdown",
   "metadata": {},
   "source": []
  },
  {
   "cell_type": "markdown",
   "metadata": {},
   "source": [
    "## Let's compare this with our results:\n",
    "    Ebits: 5 Mebit/s (including losses and th noise)\n",
    "    Ebits: 90 Mebit/s (excl losses)"
   ]
  },
  {
   "cell_type": "code",
   "execution_count": 33,
   "metadata": {},
   "outputs": [
    {
     "name": "stdout",
     "output_type": "stream",
     "text": [
      "LogNeg: 0.030006976481117453\n",
      "Ef: 0.001580957920608764\n",
      "Ebits: 4.754760663485005 Mebit/s\n"
     ]
    }
   ],
   "source": [
    "get_Ebit(-0.03011*3, bw=4e9/1.33, th=0)  # At sample output inc. Thermal photons (excl. losses)"
   ]
  },
  {
   "cell_type": "markdown",
   "metadata": {},
   "source": [
    "## Ebit comparison at the sample:\n",
    "        1: 4.3 Mebit/s  ; Bandwidth: 5 MHz\n",
    "        2: 5.14 Mebit/s ; Bandwidth: 14 MHz\n",
    "        3: 6 Mebit/s    ; Bandwidth: 8.7 Mhz\n",
    "        4: 5.7 Mebit/s  ; Bandwidth: 10 MHz\n",
    "        5: 2.7 Mebit/s  ; Bandwidth: 8.5 MHz\n",
    "        Paper: 90 Mebit/s ; Bandwidth: 8 GHz\n",
    "    "
   ]
  },
  {
   "cell_type": "code",
   "execution_count": null,
   "metadata": {},
   "outputs": [],
   "source": []
  }
 ],
 "metadata": {
  "kernelspec": {
   "display_name": "Python 3",
   "language": "python",
   "name": "python3"
  },
  "language_info": {
   "codemirror_mode": {
    "name": "ipython",
    "version": 3
   },
   "file_extension": ".py",
   "mimetype": "text/x-python",
   "name": "python",
   "nbconvert_exporter": "python",
   "pygments_lexer": "ipython3",
   "version": "3.6.2"
  }
 },
 "nbformat": 4,
 "nbformat_minor": 2
}
